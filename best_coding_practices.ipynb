{
  "nbformat": 4,
  "nbformat_minor": 0,
  "metadata": {
    "colab": {
      "provenance": [],
      "authorship_tag": "ABX9TyPXgCla08Z3NoPRHqADhbD+",
      "include_colab_link": true
    },
    "kernelspec": {
      "name": "python3",
      "display_name": "Python 3"
    },
    "language_info": {
      "name": "python"
    }
  },
  "cells": [
    {
      "cell_type": "markdown",
      "metadata": {
        "id": "view-in-github",
        "colab_type": "text"
      },
      "source": [
        "<a href=\"https://colab.research.google.com/github/VondracekS/ESF_Workshop_BestCodingPractices/blob/main/best_coding_practices.ipynb\" target=\"_parent\"><img src=\"https://colab.research.google.com/assets/colab-badge.svg\" alt=\"Open In Colab\"/></a>"
      ]
    },
    {
      "cell_type": "markdown",
      "source": [
        "# Best Coding Practices Workshop\n",
        "17.3.2023 @ ESF Muni"
      ],
      "metadata": {
        "id": "Nh27uBKuUyxX"
      }
    },
    {
      "cell_type": "markdown",
      "source": [
        "## 1 Git + Shell"
      ],
      "metadata": {
        "id": "Nr5ITRjcVJiV"
      }
    },
    {
      "cell_type": "markdown",
      "source": [
        "1.  Which directory are you in?\n",
        "2.  List all files within the current directory\n",
        "3.  Create a new folder *bscp_workshop* and move change there the current directory \n",
        "3.  Clone the git repository available under https://github.com/VondracekS/ESF_Workshop_BestCodingPractices\n",
        "\n",
        "Hints: \n",
        "- the needed commands are: *git clone, mkdir, ls, cd, pwd* (random order)\n",
        "- shell commands must begin with the \"!\" "
      ],
      "metadata": {
        "id": "1bThiOYKVbAJ"
      }
    },
    {
      "cell_type": "code",
      "source": [
        "!pwd; ls; mkdir bscp_workshop; cd ./bscp_workshop; git clone https://github.com/VondracekS/ESF_Workshop_BestCodingPractices"
      ],
      "metadata": {
        "colab": {
          "base_uri": "https://localhost:8080/"
        },
        "id": "Z2yXDSjlVVGF",
        "outputId": "fb921d8c-a9a3-46c7-9779-f10eb901872b"
      },
      "execution_count": 11,
      "outputs": [
        {
          "output_type": "stream",
          "name": "stdout",
          "text": [
            "/content/bscp_workshop\n",
            "ESF_Workshop_BestCodingPractices\n",
            "Cloning into 'ESF_Workshop_BestCodingPractices'...\n",
            "warning: You appear to have cloned an empty repository.\n"
          ]
        }
      ]
    },
    {
      "cell_type": "code",
      "source": [
        "!ls"
      ],
      "metadata": {
        "colab": {
          "base_uri": "https://localhost:8080/"
        },
        "id": "Lo5uYA7kVNyY",
        "outputId": "77287451-5b41-4cf3-e77f-b87b549c29ac"
      },
      "execution_count": 12,
      "outputs": [
        {
          "output_type": "stream",
          "name": "stdout",
          "text": [
            "bscp_workshop  ESF_Workshop_BestCodingPractices\n"
          ]
        }
      ]
    }
  ]
}