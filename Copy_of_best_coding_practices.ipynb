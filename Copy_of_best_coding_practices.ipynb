{
  "nbformat": 4,
  "nbformat_minor": 0,
  "metadata": {
    "colab": {
      "provenance": [],
      "authorship_tag": "ABX9TyPNkmRKn0DIm3iFJdBfUoPp",
      "include_colab_link": true
    },
    "kernelspec": {
      "name": "python3",
      "display_name": "Python 3"
    },
    "language_info": {
      "name": "python"
    }
  },
  "cells": [
    {
      "cell_type": "markdown",
      "metadata": {
        "id": "view-in-github",
        "colab_type": "text"
      },
      "source": [
        "<a href=\"https://colab.research.google.com/github/VondracekS/ESF_Workshop_BestCodingPractices/blob/main/Copy_of_best_coding_practices.ipynb\" target=\"_parent\"><img src=\"https://colab.research.google.com/assets/colab-badge.svg\" alt=\"Open In Colab\"/></a>"
      ]
    },
    {
      "cell_type": "markdown",
      "source": [
        "# Best Coding Practices Workshop\n",
        "17.3.2023 @ ESF Muni"
      ],
      "metadata": {
        "id": "Nh27uBKuUyxX"
      }
    },
    {
      "cell_type": "markdown",
      "source": [
        "## 1 Git + Shell"
      ],
      "metadata": {
        "id": "Nr5ITRjcVJiV"
      }
    },
    {
      "cell_type": "markdown",
      "source": [
        "1. Which directory are you in?\n",
        "2. List all files within the current directory\n",
        "3. Clone the git repository available under https://github.com/VondracekS/ESF_Workshop_BestCodingPractices\n",
        "4. Search the directory and find the data\n",
        "5. Unzip the data\n",
        "\n",
        "Hints: \n",
        "- the needed commands are: *git clone, ls, cd, pwd, rm* (random order)\n",
        "- shell commands must begin with the \"!\", however to use cd, you need %cd"
      ],
      "metadata": {
        "id": "1bThiOYKVbAJ"
      }
    },
    {
      "cell_type": "code",
      "source": [
        "# TODO: show the current directory\n",
        "!pwd"
      ],
      "metadata": {
        "id": "miVjHalyQ5Ao",
        "outputId": "51a4a228-d13b-4c4e-888c-af0b935819c9",
        "colab": {
          "base_uri": "https://localhost:8080/"
        }
      },
      "execution_count": null,
      "outputs": [
        {
          "output_type": "stream",
          "name": "stdout",
          "text": [
            "/content\n"
          ]
        }
      ]
    },
    {
      "cell_type": "code",
      "source": [
        "# TODO: list all folders/files within the directory\n",
        "!ls"
      ],
      "metadata": {
        "id": "7T7TEVckQ8WK",
        "outputId": "578b7a46-7bbe-40af-e395-5cb4d6708726",
        "colab": {
          "base_uri": "https://localhost:8080/"
        }
      },
      "execution_count": null,
      "outputs": [
        {
          "output_type": "stream",
          "name": "stdout",
          "text": [
            "sample_data\n"
          ]
        }
      ]
    },
    {
      "cell_type": "code",
      "source": [
        "# TODO: clone the git repository\n",
        "!git clone https://github.com/VondracekS/ESF_Workshop_BestCodingPractices; ls"
      ],
      "metadata": {
        "id": "n9GWgno7RSw0",
        "outputId": "ec1f34e5-a0af-4388-ad22-121aa957f124",
        "colab": {
          "base_uri": "https://localhost:8080/"
        }
      },
      "execution_count": null,
      "outputs": [
        {
          "output_type": "stream",
          "name": "stdout",
          "text": [
            "Cloning into 'ESF_Workshop_BestCodingPractices'...\n",
            "remote: Enumerating objects: 10, done.\u001b[K\n",
            "remote: Counting objects: 100% (10/10), done.\u001b[K\n",
            "remote: Compressing objects: 100% (6/6), done.\u001b[K\n",
            "remote: Total 10 (delta 1), reused 8 (delta 1), pack-reused 0\u001b[K\n",
            "Unpacking objects: 100% (10/10), 2.33 MiB | 9.90 MiB/s, done.\n",
            "ESF_Workshop_BestCodingPractices  sample_data\n"
          ]
        }
      ]
    },
    {
      "cell_type": "code",
      "source": [
        "# Change the directory to the newly cloned one\n",
        "%cd ESF_Workshop_BestCodingPractices/"
      ],
      "metadata": {
        "id": "hXZOhonJRYsA",
        "outputId": "bc44a39b-885a-45e0-c303-91ae28835a7e",
        "colab": {
          "base_uri": "https://localhost:8080/"
        }
      },
      "execution_count": null,
      "outputs": [
        {
          "output_type": "stream",
          "name": "stdout",
          "text": [
            "/content/ESF_Workshop_BestCodingPractices\n"
          ]
        }
      ]
    },
    {
      "cell_type": "code",
      "source": [
        "!ls"
      ],
      "metadata": {
        "colab": {
          "base_uri": "https://localhost:8080/"
        },
        "id": "Z2yXDSjlVVGF",
        "outputId": "8b6015eb-f8c6-4a10-f72f-f634b34efab3"
      },
      "execution_count": null,
      "outputs": [
        {
          "output_type": "stream",
          "name": "stdout",
          "text": [
            "best_coding_practices.ipynb  data  README.md\n"
          ]
        }
      ]
    },
    {
      "cell_type": "code",
      "source": [
        "%cd data"
      ],
      "metadata": {
        "colab": {
          "base_uri": "https://localhost:8080/"
        },
        "id": "Lo5uYA7kVNyY",
        "outputId": "415cc16f-9695-4452-d99c-4ddaaf254b23"
      },
      "execution_count": null,
      "outputs": [
        {
          "output_type": "stream",
          "name": "stdout",
          "text": [
            "/content/ESF_Workshop_BestCodingPractices/data\n"
          ]
        }
      ]
    },
    {
      "cell_type": "code",
      "source": [
        "ls"
      ],
      "metadata": {
        "id": "sJh93Ei8RqNg",
        "outputId": "0d2e258d-a6dc-4020-ef32-d52d922ce31f",
        "colab": {
          "base_uri": "https://localhost:8080/"
        }
      },
      "execution_count": null,
      "outputs": [
        {
          "output_type": "stream",
          "name": "stdout",
          "text": [
            "specdata.zip\n"
          ]
        }
      ]
    },
    {
      "cell_type": "code",
      "source": [
        "# unzip the data\n",
        "!unzip specdata.zip"
      ],
      "metadata": {
        "id": "kmiRf_dMRrgy",
        "outputId": "9327baaa-20e4-4123-825e-b0cf49f4e10c",
        "colab": {
          "base_uri": "https://localhost:8080/"
        }
      },
      "execution_count": null,
      "outputs": [
        {
          "output_type": "stream",
          "name": "stdout",
          "text": [
            "Archive:  specdata.zip\n",
            "   creating: specdata/\n",
            "  inflating: specdata/001.csv        \n",
            "  inflating: specdata/002.csv        \n",
            "  inflating: specdata/003.csv        \n",
            "  inflating: specdata/004.csv        \n",
            "  inflating: specdata/005.csv        \n",
            "  inflating: specdata/006.csv        \n",
            "  inflating: specdata/007.csv        \n",
            "  inflating: specdata/008.csv        \n",
            "  inflating: specdata/009.csv        \n",
            "  inflating: specdata/010.csv        \n",
            "  inflating: specdata/011.csv        \n",
            "  inflating: specdata/012.csv        \n",
            "  inflating: specdata/013.csv        \n",
            "  inflating: specdata/014.csv        \n",
            "  inflating: specdata/015.csv        \n",
            "  inflating: specdata/016.csv        \n",
            "  inflating: specdata/017.csv        \n",
            "  inflating: specdata/018.csv        \n",
            "  inflating: specdata/019.csv        \n",
            "  inflating: specdata/020.csv        \n",
            "  inflating: specdata/021.csv        \n",
            "  inflating: specdata/022.csv        \n",
            "  inflating: specdata/023.csv        \n",
            "  inflating: specdata/024.csv        \n",
            "  inflating: specdata/025.csv        \n",
            "  inflating: specdata/026.csv        \n",
            "  inflating: specdata/027.csv        \n",
            "  inflating: specdata/028.csv        \n",
            "  inflating: specdata/029.csv        \n",
            "  inflating: specdata/030.csv        \n",
            "  inflating: specdata/031.csv        \n",
            "  inflating: specdata/032.csv        \n",
            "  inflating: specdata/033.csv        \n",
            "  inflating: specdata/034.csv        \n",
            "  inflating: specdata/035.csv        \n",
            "  inflating: specdata/036.csv        \n",
            "  inflating: specdata/037.csv        \n",
            "  inflating: specdata/038.csv        \n",
            "  inflating: specdata/039.csv        \n",
            "  inflating: specdata/040.csv        \n",
            "  inflating: specdata/041.csv        \n",
            "  inflating: specdata/042.csv        \n",
            "  inflating: specdata/043.csv        \n",
            "  inflating: specdata/044.csv        \n",
            "  inflating: specdata/045.csv        \n",
            "  inflating: specdata/046.csv        \n",
            "  inflating: specdata/047.csv        \n",
            "  inflating: specdata/048.csv        \n",
            "  inflating: specdata/049.csv        \n",
            "  inflating: specdata/050.csv        \n",
            "  inflating: specdata/051.csv        \n",
            "  inflating: specdata/052.csv        \n",
            "  inflating: specdata/053.csv        \n",
            "  inflating: specdata/054.csv        \n",
            "  inflating: specdata/055.csv        \n",
            "  inflating: specdata/056.csv        \n",
            "  inflating: specdata/057.csv        \n",
            "  inflating: specdata/058.csv        \n",
            "  inflating: specdata/059.csv        \n",
            "  inflating: specdata/060.csv        \n",
            "  inflating: specdata/061.csv        \n",
            "  inflating: specdata/062.csv        \n",
            "  inflating: specdata/063.csv        \n",
            "  inflating: specdata/064.csv        \n",
            "  inflating: specdata/065.csv        \n",
            "  inflating: specdata/066.csv        \n",
            "  inflating: specdata/067.csv        \n",
            "  inflating: specdata/068.csv        \n",
            "  inflating: specdata/069.csv        \n",
            "  inflating: specdata/070.csv        \n",
            "  inflating: specdata/071.csv        \n",
            "  inflating: specdata/072.csv        \n",
            "  inflating: specdata/073.csv        \n",
            "  inflating: specdata/074.csv        \n",
            "  inflating: specdata/075.csv        \n",
            "  inflating: specdata/076.csv        \n",
            "  inflating: specdata/077.csv        \n",
            "  inflating: specdata/078.csv        \n",
            "  inflating: specdata/079.csv        \n",
            "  inflating: specdata/080.csv        \n",
            "  inflating: specdata/081.csv        \n",
            "  inflating: specdata/082.csv        \n",
            "  inflating: specdata/083.csv        \n",
            "  inflating: specdata/084.csv        \n",
            "  inflating: specdata/085.csv        \n",
            "  inflating: specdata/086.csv        \n",
            "  inflating: specdata/087.csv        \n",
            "  inflating: specdata/088.csv        \n",
            "  inflating: specdata/089.csv        \n",
            "  inflating: specdata/090.csv        \n",
            "  inflating: specdata/091.csv        \n",
            "  inflating: specdata/092.csv        \n",
            "  inflating: specdata/093.csv        \n",
            "  inflating: specdata/094.csv        \n",
            "  inflating: specdata/095.csv        \n",
            "  inflating: specdata/096.csv        \n",
            "  inflating: specdata/097.csv        \n",
            "  inflating: specdata/098.csv        \n",
            "  inflating: specdata/099.csv        \n",
            "  inflating: specdata/100.csv        \n",
            "  inflating: specdata/101.csv        \n",
            "  inflating: specdata/102.csv        \n",
            "  inflating: specdata/103.csv        \n",
            "  inflating: specdata/104.csv        \n",
            "  inflating: specdata/105.csv        \n",
            "  inflating: specdata/106.csv        \n",
            "  inflating: specdata/107.csv        \n",
            "  inflating: specdata/108.csv        \n",
            "  inflating: specdata/109.csv        \n",
            "  inflating: specdata/110.csv        \n",
            "  inflating: specdata/111.csv        \n",
            "  inflating: specdata/112.csv        \n",
            "  inflating: specdata/113.csv        \n",
            "  inflating: specdata/114.csv        \n",
            "  inflating: specdata/115.csv        \n",
            "  inflating: specdata/116.csv        \n",
            "  inflating: specdata/117.csv        \n",
            "  inflating: specdata/118.csv        \n",
            "  inflating: specdata/119.csv        \n",
            "  inflating: specdata/120.csv        \n",
            "  inflating: specdata/121.csv        \n",
            "  inflating: specdata/122.csv        \n",
            "  inflating: specdata/123.csv        \n",
            "  inflating: specdata/124.csv        \n",
            "  inflating: specdata/125.csv        \n",
            "  inflating: specdata/126.csv        \n",
            "  inflating: specdata/127.csv        \n",
            "  inflating: specdata/128.csv        \n",
            "  inflating: specdata/129.csv        \n",
            "  inflating: specdata/130.csv        \n",
            "  inflating: specdata/131.csv        \n",
            "  inflating: specdata/132.csv        \n",
            "  inflating: specdata/133.csv        \n",
            "  inflating: specdata/134.csv        \n",
            "  inflating: specdata/135.csv        \n",
            "  inflating: specdata/136.csv        \n",
            "  inflating: specdata/137.csv        \n",
            "  inflating: specdata/138.csv        \n",
            "  inflating: specdata/139.csv        \n",
            "  inflating: specdata/140.csv        \n",
            "  inflating: specdata/141.csv        \n",
            "  inflating: specdata/142.csv        \n",
            "  inflating: specdata/143.csv        \n",
            "  inflating: specdata/144.csv        \n",
            "  inflating: specdata/145.csv        \n",
            "  inflating: specdata/146.csv        \n",
            "  inflating: specdata/147.csv        \n",
            "  inflating: specdata/148.csv        \n",
            "  inflating: specdata/149.csv        \n",
            "  inflating: specdata/150.csv        \n",
            "  inflating: specdata/151.csv        \n",
            "  inflating: specdata/152.csv        \n",
            "  inflating: specdata/153.csv        \n",
            "  inflating: specdata/154.csv        \n",
            "  inflating: specdata/155.csv        \n",
            "  inflating: specdata/156.csv        \n",
            "  inflating: specdata/157.csv        \n",
            "  inflating: specdata/158.csv        \n",
            "  inflating: specdata/159.csv        \n",
            "  inflating: specdata/160.csv        \n",
            "  inflating: specdata/161.csv        \n",
            "  inflating: specdata/162.csv        \n",
            "  inflating: specdata/163.csv        \n",
            "  inflating: specdata/164.csv        \n",
            "  inflating: specdata/165.csv        \n",
            "  inflating: specdata/166.csv        \n",
            "  inflating: specdata/167.csv        \n",
            "  inflating: specdata/168.csv        \n",
            "  inflating: specdata/169.csv        \n",
            "  inflating: specdata/170.csv        \n",
            "  inflating: specdata/171.csv        \n",
            "  inflating: specdata/172.csv        \n",
            "  inflating: specdata/173.csv        \n",
            "  inflating: specdata/174.csv        \n",
            "  inflating: specdata/175.csv        \n",
            "  inflating: specdata/176.csv        \n",
            "  inflating: specdata/177.csv        \n",
            "  inflating: specdata/178.csv        \n",
            "  inflating: specdata/179.csv        \n",
            "  inflating: specdata/180.csv        \n",
            "  inflating: specdata/181.csv        \n",
            "  inflating: specdata/182.csv        \n",
            "  inflating: specdata/183.csv        \n",
            "  inflating: specdata/184.csv        \n",
            "  inflating: specdata/185.csv        \n",
            "  inflating: specdata/186.csv        \n",
            "  inflating: specdata/187.csv        \n",
            "  inflating: specdata/188.csv        \n",
            "  inflating: specdata/189.csv        \n",
            "  inflating: specdata/190.csv        \n",
            "  inflating: specdata/191.csv        \n",
            "  inflating: specdata/192.csv        \n",
            "  inflating: specdata/193.csv        \n",
            "  inflating: specdata/194.csv        \n",
            "  inflating: specdata/195.csv        \n",
            "  inflating: specdata/196.csv        \n",
            "  inflating: specdata/197.csv        \n",
            "  inflating: specdata/198.csv        \n",
            "  inflating: specdata/199.csv        \n",
            "  inflating: specdata/200.csv        \n",
            "  inflating: specdata/201.csv        \n",
            "  inflating: specdata/202.csv        \n",
            "  inflating: specdata/203.csv        \n",
            "  inflating: specdata/204.csv        \n",
            "  inflating: specdata/205.csv        \n",
            "  inflating: specdata/206.csv        \n",
            "  inflating: specdata/207.csv        \n",
            "  inflating: specdata/208.csv        \n",
            "  inflating: specdata/209.csv        \n",
            "  inflating: specdata/210.csv        \n",
            "  inflating: specdata/211.csv        \n",
            "  inflating: specdata/212.csv        \n",
            "  inflating: specdata/213.csv        \n",
            "  inflating: specdata/214.csv        \n",
            "  inflating: specdata/215.csv        \n",
            "  inflating: specdata/216.csv        \n",
            "  inflating: specdata/217.csv        \n",
            "  inflating: specdata/218.csv        \n",
            "  inflating: specdata/219.csv        \n",
            "  inflating: specdata/220.csv        \n",
            "  inflating: specdata/221.csv        \n",
            "  inflating: specdata/222.csv        \n",
            "  inflating: specdata/223.csv        \n",
            "  inflating: specdata/224.csv        \n",
            "  inflating: specdata/225.csv        \n",
            "  inflating: specdata/226.csv        \n",
            "  inflating: specdata/227.csv        \n",
            "  inflating: specdata/228.csv        \n",
            "  inflating: specdata/229.csv        \n",
            "  inflating: specdata/230.csv        \n",
            "  inflating: specdata/231.csv        \n",
            "  inflating: specdata/232.csv        \n",
            "  inflating: specdata/233.csv        \n",
            "  inflating: specdata/234.csv        \n",
            "  inflating: specdata/235.csv        \n",
            "  inflating: specdata/236.csv        \n",
            "  inflating: specdata/237.csv        \n",
            "  inflating: specdata/238.csv        \n",
            "  inflating: specdata/239.csv        \n",
            "  inflating: specdata/240.csv        \n",
            "  inflating: specdata/241.csv        \n",
            "  inflating: specdata/242.csv        \n",
            "  inflating: specdata/243.csv        \n",
            "  inflating: specdata/244.csv        \n",
            "  inflating: specdata/245.csv        \n",
            "  inflating: specdata/246.csv        \n",
            "  inflating: specdata/247.csv        \n",
            "  inflating: specdata/248.csv        \n",
            "  inflating: specdata/249.csv        \n",
            "  inflating: specdata/250.csv        \n",
            "  inflating: specdata/251.csv        \n",
            "  inflating: specdata/252.csv        \n",
            "  inflating: specdata/253.csv        \n",
            "  inflating: specdata/254.csv        \n",
            "  inflating: specdata/255.csv        \n",
            "  inflating: specdata/256.csv        \n",
            "  inflating: specdata/257.csv        \n",
            "  inflating: specdata/258.csv        \n",
            "  inflating: specdata/259.csv        \n",
            "  inflating: specdata/260.csv        \n",
            "  inflating: specdata/261.csv        \n",
            "  inflating: specdata/262.csv        \n",
            "  inflating: specdata/263.csv        \n",
            "  inflating: specdata/264.csv        \n",
            "  inflating: specdata/265.csv        \n",
            "  inflating: specdata/266.csv        \n",
            "  inflating: specdata/267.csv        \n",
            "  inflating: specdata/268.csv        \n",
            "  inflating: specdata/269.csv        \n",
            "  inflating: specdata/270.csv        \n",
            "  inflating: specdata/271.csv        \n",
            "  inflating: specdata/272.csv        \n",
            "  inflating: specdata/273.csv        \n",
            "  inflating: specdata/274.csv        \n",
            "  inflating: specdata/275.csv        \n",
            "  inflating: specdata/276.csv        \n",
            "  inflating: specdata/277.csv        \n",
            "  inflating: specdata/278.csv        \n",
            "  inflating: specdata/279.csv        \n",
            "  inflating: specdata/280.csv        \n",
            "  inflating: specdata/281.csv        \n",
            "  inflating: specdata/282.csv        \n",
            "  inflating: specdata/283.csv        \n",
            "  inflating: specdata/284.csv        \n",
            "  inflating: specdata/285.csv        \n",
            "  inflating: specdata/286.csv        \n",
            "  inflating: specdata/287.csv        \n",
            "  inflating: specdata/288.csv        \n",
            "  inflating: specdata/289.csv        \n",
            "  inflating: specdata/290.csv        \n",
            "  inflating: specdata/291.csv        \n",
            "  inflating: specdata/292.csv        \n",
            "  inflating: specdata/293.csv        \n",
            "  inflating: specdata/294.csv        \n",
            "  inflating: specdata/295.csv        \n",
            "  inflating: specdata/296.csv        \n",
            "  inflating: specdata/297.csv        \n",
            "  inflating: specdata/298.csv        \n",
            "  inflating: specdata/299.csv        \n",
            "  inflating: specdata/300.csv        \n",
            "  inflating: specdata/301.csv        \n",
            "  inflating: specdata/302.csv        \n",
            "  inflating: specdata/303.csv        \n",
            "  inflating: specdata/304.csv        \n",
            "  inflating: specdata/305.csv        \n",
            "  inflating: specdata/306.csv        \n",
            "  inflating: specdata/307.csv        \n",
            "  inflating: specdata/308.csv        \n",
            "  inflating: specdata/309.csv        \n",
            "  inflating: specdata/310.csv        \n",
            "  inflating: specdata/311.csv        \n",
            "  inflating: specdata/312.csv        \n",
            "  inflating: specdata/313.csv        \n",
            "  inflating: specdata/314.csv        \n",
            "  inflating: specdata/315.csv        \n",
            "  inflating: specdata/316.csv        \n",
            "  inflating: specdata/317.csv        \n",
            "  inflating: specdata/318.csv        \n",
            "  inflating: specdata/319.csv        \n",
            "  inflating: specdata/320.csv        \n",
            "  inflating: specdata/321.csv        \n",
            "  inflating: specdata/322.csv        \n",
            "  inflating: specdata/323.csv        \n",
            "  inflating: specdata/324.csv        \n",
            "  inflating: specdata/325.csv        \n",
            "  inflating: specdata/326.csv        \n",
            "  inflating: specdata/327.csv        \n",
            "  inflating: specdata/328.csv        \n",
            "  inflating: specdata/329.csv        \n",
            "  inflating: specdata/330.csv        \n",
            "  inflating: specdata/331.csv        \n",
            "  inflating: specdata/332.csv        \n"
          ]
        }
      ]
    },
    {
      "cell_type": "code",
      "source": [
        "# force removal of the original zip file\n",
        "!rm -rf specdata.zip"
      ],
      "metadata": {
        "id": "6u3S-mGeRv6z"
      },
      "execution_count": null,
      "outputs": []
    },
    {
      "cell_type": "markdown",
      "source": [
        "## 2 Python"
      ],
      "metadata": {
        "id": "SQzBWZj8SPZT"
      }
    },
    {
      "cell_type": "code",
      "source": [
        "import os\n",
        "os.getcwd()"
      ],
      "metadata": {
        "id": "glJikOwySW__",
        "outputId": "ba284680-412d-4824-fa8c-0d0ebab32f29",
        "colab": {
          "base_uri": "https://localhost:8080/",
          "height": 35
        }
      },
      "execution_count": null,
      "outputs": [
        {
          "output_type": "execute_result",
          "data": {
            "text/plain": [
              "'/content/ESF_Workshop_BestCodingPractices/data'"
            ],
            "application/vnd.google.colaboratory.intrinsic+json": {
              "type": "string"
            }
          },
          "metadata": {},
          "execution_count": 13
        }
      ]
    },
    {
      "cell_type": "markdown",
      "source": [
        "## 2.1 Loading the data"
      ],
      "metadata": {
        "id": "0F0RjqhMSi01"
      }
    },
    {
      "cell_type": "markdown",
      "source": [
        "TODO:\n",
        "- create a function that loads all .csv files and stores them in a dictionary\n",
        "- the dictionary key should be the name of the file, yet without the .csv suffix\n",
        "- if the file name is padded with 0, please remove it using a regex\n"
      ],
      "metadata": {
        "id": "2QMe-qLdS5NW"
      }
    },
    {
      "cell_type": "code",
      "source": [
        "def remove_padding(tgt_string: str) -> str:\n",
        "  str_out = str(int(tgt_string))\n",
        "  return str_out"
      ],
      "metadata": {
        "id": "YdtjPweDuWZL"
      },
      "execution_count": null,
      "outputs": []
    },
    {
      "cell_type": "code",
      "source": [
        "def test_remove_padding(test_cases = ['0125', '1250']):\n",
        "  assert remove_padding(test_cases[0] == '125')\n",
        "  print(f\"remove_pading({test_cases[0]}) -> {remove_padding(test_cases[0])} Test OK\")\n",
        "  assert remove_padding(test_cases[1] == '1250')\n",
        "  print(f\"remove_pading({test_cases[1]}) -> {remove_padding(test_cases[1])} Test OK\")\n",
        "\n",
        "test_remove_padding()"
      ],
      "metadata": {
        "id": "UEMBf6l9PpzK",
        "outputId": "864faccf-a3ac-4ed6-d5d7-58d5e32031fe",
        "colab": {
          "base_uri": "https://localhost:8080/"
        }
      },
      "execution_count": null,
      "outputs": [
        {
          "output_type": "stream",
          "name": "stdout",
          "text": [
            "remove_pading(0125) -> 125 Test OK\n",
            "remove_pading(1250) -> 1250 Test OK\n"
          ]
        }
      ]
    },
    {
      "cell_type": "code",
      "source": [
        "# TODO:\n",
        "# Is the name of the function really self-explanatory? Eventually correct that\n",
        "# hints: os.listdir, string.split, \n",
        "import os\n",
        "import pandas as pd\n",
        "\n",
        "def read_csv(path: str) -> dict:\n",
        "  csv_dict = {}\n",
        "  for file in os.listdir(path):\n",
        "    prefix, suffix = file.split(\".\")\n",
        "    if suffix == \"csv\":\n",
        "      csv_dict[remove_padding(prefix)] = pd.read_csv(os.path.join(path, file))\n",
        "  return csv_dict"
      ],
      "metadata": {
        "id": "mihqERe8tSKQ"
      },
      "execution_count": null,
      "outputs": []
    },
    {
      "cell_type": "code",
      "source": [
        "# TODO: Write a test that would check whether all csv files are stored in the dictionary:\n",
        "def test_read_csv():\n",
        "  pass"
      ],
      "metadata": {
        "id": "GrPODY0ORg_4"
      },
      "execution_count": null,
      "outputs": []
    },
    {
      "cell_type": "code",
      "source": [
        "from __future__ import annotations\n",
        "# TODO:\n",
        "# Refactor the function above to be able to specify which files should be read\n",
        "# Add docstring\n",
        "# If no file subset is given, load all csvs\n",
        "\n",
        "def read_csv_new(path: str, file_subset=None) -> dict:\n",
        "  \"\"\"\n",
        "  Add some docstring\n",
        "  \"\"\"\n",
        "  csv_dict = {}\n",
        "  for file in os.listdir(path):\n",
        "    prefix, suffix = file.split(\".\")\n",
        "    if suffix == \"csv\":\n",
        "       if file_subset is None or file in file_subset:\n",
        "        csv_dict[remove_padding(prefix)] = pd.read_csv(os.path.join(path, file))\n",
        "  return csv_dict"
      ],
      "metadata": {
        "id": "M_NI0AkHxeii"
      },
      "execution_count": null,
      "outputs": []
    },
    {
      "cell_type": "code",
      "source": [
        "csvs_all = read_csv_new(\"./specdata/\")"
      ],
      "metadata": {
        "id": "Ndn8jAWPvwZC"
      },
      "execution_count": null,
      "outputs": []
    },
    {
      "cell_type": "markdown",
      "source": [
        "## 2.2 Datetime Operations\n"
      ],
      "metadata": {
        "id": "ruHyFM0RKg9Y"
      }
    },
    {
      "cell_type": "code",
      "source": [
        "# TODO: Create a DataFrame which would show minimal and maximal date where the \n",
        "# station did measure any data. The following data frame should contain the following\n",
        "# information: station ID, min date, max date, difference in days of the two data frames"
      ],
      "metadata": {
        "id": "qBocfGs27X1P"
      },
      "execution_count": null,
      "outputs": []
    },
    {
      "cell_type": "code",
      "source": [
        "def get_minmax_date(df):\n",
        "  \n",
        "  df['Date'] = pd.to_datetime(df['Date'])\n",
        "  min_d, max_d = (min(df['Date']), max(df['Date']))\n",
        "  \n",
        "  df_out = pd.DataFrame({'id': [df[\"ID\"].values[0]],\n",
        "                         'min_d': [min_d],\n",
        "                         'max_d': [max_d],\n",
        "                         'days_diff': [(max_d - min_d).days]})\n",
        "  return df_out"
      ],
      "metadata": {
        "id": "4fL-67hy7os9"
      },
      "execution_count": null,
      "outputs": []
    },
    {
      "cell_type": "code",
      "source": [
        "get_minmax_date(csvs_all['1'])"
      ],
      "metadata": {
        "id": "z9hp_GMgMVv2",
        "outputId": "f82cb17d-bd24-450b-b399-39bf28b0464b",
        "colab": {
          "base_uri": "https://localhost:8080/",
          "height": 81
        }
      },
      "execution_count": null,
      "outputs": [
        {
          "output_type": "execute_result",
          "data": {
            "text/plain": [
              "   id      min_d      max_d  days_diff\n",
              "0   1 2003-01-01 2006-12-31       1460"
            ],
            "text/html": [
              "\n",
              "  <div id=\"df-83ec9d43-be72-4c30-a3e4-6eb6b5e49a11\">\n",
              "    <div class=\"colab-df-container\">\n",
              "      <div>\n",
              "<style scoped>\n",
              "    .dataframe tbody tr th:only-of-type {\n",
              "        vertical-align: middle;\n",
              "    }\n",
              "\n",
              "    .dataframe tbody tr th {\n",
              "        vertical-align: top;\n",
              "    }\n",
              "\n",
              "    .dataframe thead th {\n",
              "        text-align: right;\n",
              "    }\n",
              "</style>\n",
              "<table border=\"1\" class=\"dataframe\">\n",
              "  <thead>\n",
              "    <tr style=\"text-align: right;\">\n",
              "      <th></th>\n",
              "      <th>id</th>\n",
              "      <th>min_d</th>\n",
              "      <th>max_d</th>\n",
              "      <th>days_diff</th>\n",
              "    </tr>\n",
              "  </thead>\n",
              "  <tbody>\n",
              "    <tr>\n",
              "      <th>0</th>\n",
              "      <td>1</td>\n",
              "      <td>2003-01-01</td>\n",
              "      <td>2006-12-31</td>\n",
              "      <td>1460</td>\n",
              "    </tr>\n",
              "  </tbody>\n",
              "</table>\n",
              "</div>\n",
              "      <button class=\"colab-df-convert\" onclick=\"convertToInteractive('df-83ec9d43-be72-4c30-a3e4-6eb6b5e49a11')\"\n",
              "              title=\"Convert this dataframe to an interactive table.\"\n",
              "              style=\"display:none;\">\n",
              "        \n",
              "  <svg xmlns=\"http://www.w3.org/2000/svg\" height=\"24px\"viewBox=\"0 0 24 24\"\n",
              "       width=\"24px\">\n",
              "    <path d=\"M0 0h24v24H0V0z\" fill=\"none\"/>\n",
              "    <path d=\"M18.56 5.44l.94 2.06.94-2.06 2.06-.94-2.06-.94-.94-2.06-.94 2.06-2.06.94zm-11 1L8.5 8.5l.94-2.06 2.06-.94-2.06-.94L8.5 2.5l-.94 2.06-2.06.94zm10 10l.94 2.06.94-2.06 2.06-.94-2.06-.94-.94-2.06-.94 2.06-2.06.94z\"/><path d=\"M17.41 7.96l-1.37-1.37c-.4-.4-.92-.59-1.43-.59-.52 0-1.04.2-1.43.59L10.3 9.45l-7.72 7.72c-.78.78-.78 2.05 0 2.83L4 21.41c.39.39.9.59 1.41.59.51 0 1.02-.2 1.41-.59l7.78-7.78 2.81-2.81c.8-.78.8-2.07 0-2.86zM5.41 20L4 18.59l7.72-7.72 1.47 1.35L5.41 20z\"/>\n",
              "  </svg>\n",
              "      </button>\n",
              "      \n",
              "  <style>\n",
              "    .colab-df-container {\n",
              "      display:flex;\n",
              "      flex-wrap:wrap;\n",
              "      gap: 12px;\n",
              "    }\n",
              "\n",
              "    .colab-df-convert {\n",
              "      background-color: #E8F0FE;\n",
              "      border: none;\n",
              "      border-radius: 50%;\n",
              "      cursor: pointer;\n",
              "      display: none;\n",
              "      fill: #1967D2;\n",
              "      height: 32px;\n",
              "      padding: 0 0 0 0;\n",
              "      width: 32px;\n",
              "    }\n",
              "\n",
              "    .colab-df-convert:hover {\n",
              "      background-color: #E2EBFA;\n",
              "      box-shadow: 0px 1px 2px rgba(60, 64, 67, 0.3), 0px 1px 3px 1px rgba(60, 64, 67, 0.15);\n",
              "      fill: #174EA6;\n",
              "    }\n",
              "\n",
              "    [theme=dark] .colab-df-convert {\n",
              "      background-color: #3B4455;\n",
              "      fill: #D2E3FC;\n",
              "    }\n",
              "\n",
              "    [theme=dark] .colab-df-convert:hover {\n",
              "      background-color: #434B5C;\n",
              "      box-shadow: 0px 1px 3px 1px rgba(0, 0, 0, 0.15);\n",
              "      filter: drop-shadow(0px 1px 2px rgba(0, 0, 0, 0.3));\n",
              "      fill: #FFFFFF;\n",
              "    }\n",
              "  </style>\n",
              "\n",
              "      <script>\n",
              "        const buttonEl =\n",
              "          document.querySelector('#df-83ec9d43-be72-4c30-a3e4-6eb6b5e49a11 button.colab-df-convert');\n",
              "        buttonEl.style.display =\n",
              "          google.colab.kernel.accessAllowed ? 'block' : 'none';\n",
              "\n",
              "        async function convertToInteractive(key) {\n",
              "          const element = document.querySelector('#df-83ec9d43-be72-4c30-a3e4-6eb6b5e49a11');\n",
              "          const dataTable =\n",
              "            await google.colab.kernel.invokeFunction('convertToInteractive',\n",
              "                                                     [key], {});\n",
              "          if (!dataTable) return;\n",
              "\n",
              "          const docLinkHtml = 'Like what you see? Visit the ' +\n",
              "            '<a target=\"_blank\" href=https://colab.research.google.com/notebooks/data_table.ipynb>data table notebook</a>'\n",
              "            + ' to learn more about interactive tables.';\n",
              "          element.innerHTML = '';\n",
              "          dataTable['output_type'] = 'display_data';\n",
              "          await google.colab.output.renderOutput(dataTable, element);\n",
              "          const docLink = document.createElement('div');\n",
              "          docLink.innerHTML = docLinkHtml;\n",
              "          element.appendChild(docLink);\n",
              "        }\n",
              "      </script>\n",
              "    </div>\n",
              "  </div>\n",
              "  "
            ]
          },
          "metadata": {},
          "execution_count": 112
        }
      ]
    },
    {
      "cell_type": "code",
      "source": [
        "def concat_date_ranges(dfs_all):\n",
        "\n",
        "  date_ranges = []\n",
        "  \n",
        "  for k,v in dfs_all.items():\n",
        "    date_ranges.append(get_minmax_date(v))\n",
        "  \n",
        "  return pd.concat(date_ranges).sort_values('id')"
      ],
      "metadata": {
        "id": "Ye8Xx0Y6GJIP"
      },
      "execution_count": null,
      "outputs": []
    },
    {
      "cell_type": "code",
      "source": [
        "drange = concat_date_ranges(csvs_all)\n",
        "drange"
      ],
      "metadata": {
        "id": "-bJPpisqIDvi",
        "outputId": "8fdb80bc-54a2-4635-f227-42d8edc37582",
        "colab": {
          "base_uri": "https://localhost:8080/",
          "height": 424
        }
      },
      "execution_count": null,
      "outputs": [
        {
          "output_type": "execute_result",
          "data": {
            "text/plain": [
              "     id      min_d      max_d  days_diff\n",
              "0     1 2003-01-01 2006-12-31       1460\n",
              "0     2 2001-01-01 2010-12-31       3651\n",
              "0     3 2001-01-01 2006-12-31       2190\n",
              "0     4 2001-01-01 2010-12-31       3651\n",
              "0     5 2003-01-01 2010-12-31       2921\n",
              "..  ...        ...        ...        ...\n",
              "0   328 2000-01-01 2010-12-31       4017\n",
              "0   329 2001-01-01 2010-12-31       3651\n",
              "0   330 2002-01-01 2010-12-31       3286\n",
              "0   331 2001-01-01 2006-12-31       2190\n",
              "0   332 2003-01-01 2004-12-31        730\n",
              "\n",
              "[332 rows x 4 columns]"
            ],
            "text/html": [
              "\n",
              "  <div id=\"df-96507b78-9e73-4116-a5c0-ce067e0eeb59\">\n",
              "    <div class=\"colab-df-container\">\n",
              "      <div>\n",
              "<style scoped>\n",
              "    .dataframe tbody tr th:only-of-type {\n",
              "        vertical-align: middle;\n",
              "    }\n",
              "\n",
              "    .dataframe tbody tr th {\n",
              "        vertical-align: top;\n",
              "    }\n",
              "\n",
              "    .dataframe thead th {\n",
              "        text-align: right;\n",
              "    }\n",
              "</style>\n",
              "<table border=\"1\" class=\"dataframe\">\n",
              "  <thead>\n",
              "    <tr style=\"text-align: right;\">\n",
              "      <th></th>\n",
              "      <th>id</th>\n",
              "      <th>min_d</th>\n",
              "      <th>max_d</th>\n",
              "      <th>days_diff</th>\n",
              "    </tr>\n",
              "  </thead>\n",
              "  <tbody>\n",
              "    <tr>\n",
              "      <th>0</th>\n",
              "      <td>1</td>\n",
              "      <td>2003-01-01</td>\n",
              "      <td>2006-12-31</td>\n",
              "      <td>1460</td>\n",
              "    </tr>\n",
              "    <tr>\n",
              "      <th>0</th>\n",
              "      <td>2</td>\n",
              "      <td>2001-01-01</td>\n",
              "      <td>2010-12-31</td>\n",
              "      <td>3651</td>\n",
              "    </tr>\n",
              "    <tr>\n",
              "      <th>0</th>\n",
              "      <td>3</td>\n",
              "      <td>2001-01-01</td>\n",
              "      <td>2006-12-31</td>\n",
              "      <td>2190</td>\n",
              "    </tr>\n",
              "    <tr>\n",
              "      <th>0</th>\n",
              "      <td>4</td>\n",
              "      <td>2001-01-01</td>\n",
              "      <td>2010-12-31</td>\n",
              "      <td>3651</td>\n",
              "    </tr>\n",
              "    <tr>\n",
              "      <th>0</th>\n",
              "      <td>5</td>\n",
              "      <td>2003-01-01</td>\n",
              "      <td>2010-12-31</td>\n",
              "      <td>2921</td>\n",
              "    </tr>\n",
              "    <tr>\n",
              "      <th>...</th>\n",
              "      <td>...</td>\n",
              "      <td>...</td>\n",
              "      <td>...</td>\n",
              "      <td>...</td>\n",
              "    </tr>\n",
              "    <tr>\n",
              "      <th>0</th>\n",
              "      <td>328</td>\n",
              "      <td>2000-01-01</td>\n",
              "      <td>2010-12-31</td>\n",
              "      <td>4017</td>\n",
              "    </tr>\n",
              "    <tr>\n",
              "      <th>0</th>\n",
              "      <td>329</td>\n",
              "      <td>2001-01-01</td>\n",
              "      <td>2010-12-31</td>\n",
              "      <td>3651</td>\n",
              "    </tr>\n",
              "    <tr>\n",
              "      <th>0</th>\n",
              "      <td>330</td>\n",
              "      <td>2002-01-01</td>\n",
              "      <td>2010-12-31</td>\n",
              "      <td>3286</td>\n",
              "    </tr>\n",
              "    <tr>\n",
              "      <th>0</th>\n",
              "      <td>331</td>\n",
              "      <td>2001-01-01</td>\n",
              "      <td>2006-12-31</td>\n",
              "      <td>2190</td>\n",
              "    </tr>\n",
              "    <tr>\n",
              "      <th>0</th>\n",
              "      <td>332</td>\n",
              "      <td>2003-01-01</td>\n",
              "      <td>2004-12-31</td>\n",
              "      <td>730</td>\n",
              "    </tr>\n",
              "  </tbody>\n",
              "</table>\n",
              "<p>332 rows × 4 columns</p>\n",
              "</div>\n",
              "      <button class=\"colab-df-convert\" onclick=\"convertToInteractive('df-96507b78-9e73-4116-a5c0-ce067e0eeb59')\"\n",
              "              title=\"Convert this dataframe to an interactive table.\"\n",
              "              style=\"display:none;\">\n",
              "        \n",
              "  <svg xmlns=\"http://www.w3.org/2000/svg\" height=\"24px\"viewBox=\"0 0 24 24\"\n",
              "       width=\"24px\">\n",
              "    <path d=\"M0 0h24v24H0V0z\" fill=\"none\"/>\n",
              "    <path d=\"M18.56 5.44l.94 2.06.94-2.06 2.06-.94-2.06-.94-.94-2.06-.94 2.06-2.06.94zm-11 1L8.5 8.5l.94-2.06 2.06-.94-2.06-.94L8.5 2.5l-.94 2.06-2.06.94zm10 10l.94 2.06.94-2.06 2.06-.94-2.06-.94-.94-2.06-.94 2.06-2.06.94z\"/><path d=\"M17.41 7.96l-1.37-1.37c-.4-.4-.92-.59-1.43-.59-.52 0-1.04.2-1.43.59L10.3 9.45l-7.72 7.72c-.78.78-.78 2.05 0 2.83L4 21.41c.39.39.9.59 1.41.59.51 0 1.02-.2 1.41-.59l7.78-7.78 2.81-2.81c.8-.78.8-2.07 0-2.86zM5.41 20L4 18.59l7.72-7.72 1.47 1.35L5.41 20z\"/>\n",
              "  </svg>\n",
              "      </button>\n",
              "      \n",
              "  <style>\n",
              "    .colab-df-container {\n",
              "      display:flex;\n",
              "      flex-wrap:wrap;\n",
              "      gap: 12px;\n",
              "    }\n",
              "\n",
              "    .colab-df-convert {\n",
              "      background-color: #E8F0FE;\n",
              "      border: none;\n",
              "      border-radius: 50%;\n",
              "      cursor: pointer;\n",
              "      display: none;\n",
              "      fill: #1967D2;\n",
              "      height: 32px;\n",
              "      padding: 0 0 0 0;\n",
              "      width: 32px;\n",
              "    }\n",
              "\n",
              "    .colab-df-convert:hover {\n",
              "      background-color: #E2EBFA;\n",
              "      box-shadow: 0px 1px 2px rgba(60, 64, 67, 0.3), 0px 1px 3px 1px rgba(60, 64, 67, 0.15);\n",
              "      fill: #174EA6;\n",
              "    }\n",
              "\n",
              "    [theme=dark] .colab-df-convert {\n",
              "      background-color: #3B4455;\n",
              "      fill: #D2E3FC;\n",
              "    }\n",
              "\n",
              "    [theme=dark] .colab-df-convert:hover {\n",
              "      background-color: #434B5C;\n",
              "      box-shadow: 0px 1px 3px 1px rgba(0, 0, 0, 0.15);\n",
              "      filter: drop-shadow(0px 1px 2px rgba(0, 0, 0, 0.3));\n",
              "      fill: #FFFFFF;\n",
              "    }\n",
              "  </style>\n",
              "\n",
              "      <script>\n",
              "        const buttonEl =\n",
              "          document.querySelector('#df-96507b78-9e73-4116-a5c0-ce067e0eeb59 button.colab-df-convert');\n",
              "        buttonEl.style.display =\n",
              "          google.colab.kernel.accessAllowed ? 'block' : 'none';\n",
              "\n",
              "        async function convertToInteractive(key) {\n",
              "          const element = document.querySelector('#df-96507b78-9e73-4116-a5c0-ce067e0eeb59');\n",
              "          const dataTable =\n",
              "            await google.colab.kernel.invokeFunction('convertToInteractive',\n",
              "                                                     [key], {});\n",
              "          if (!dataTable) return;\n",
              "\n",
              "          const docLinkHtml = 'Like what you see? Visit the ' +\n",
              "            '<a target=\"_blank\" href=https://colab.research.google.com/notebooks/data_table.ipynb>data table notebook</a>'\n",
              "            + ' to learn more about interactive tables.';\n",
              "          element.innerHTML = '';\n",
              "          dataTable['output_type'] = 'display_data';\n",
              "          await google.colab.output.renderOutput(dataTable, element);\n",
              "          const docLink = document.createElement('div');\n",
              "          docLink.innerHTML = docLinkHtml;\n",
              "          element.appendChild(docLink);\n",
              "        }\n",
              "      </script>\n",
              "    </div>\n",
              "  </div>\n",
              "  "
            ]
          },
          "metadata": {},
          "execution_count": 119
        }
      ]
    },
    {
      "cell_type": "code",
      "source": [
        "drange.min_d.dt.dayofweek"
      ],
      "metadata": {
        "id": "4NjOtKv0OnyB",
        "outputId": "868e8244-6060-420e-c7fc-3bdc52adb786",
        "colab": {
          "base_uri": "https://localhost:8080/"
        }
      },
      "execution_count": null,
      "outputs": [
        {
          "output_type": "execute_result",
          "data": {
            "text/plain": [
              "0    2\n",
              "0    0\n",
              "0    0\n",
              "0    0\n",
              "0    2\n",
              "    ..\n",
              "0    5\n",
              "0    0\n",
              "0    1\n",
              "0    0\n",
              "0    2\n",
              "Name: min_d, Length: 332, dtype: int64"
            ]
          },
          "metadata": {},
          "execution_count": 121
        }
      ]
    },
    {
      "cell_type": "code",
      "source": [
        "import plotly.express as px\n",
        "px.scatter(x=drange.id, y=drange.days_diff)"
      ],
      "metadata": {
        "id": "UoF0zznc2GlZ",
        "outputId": "ed7f68bb-3375-4721-aa90-ed92737b83dc",
        "colab": {
          "base_uri": "https://localhost:8080/",
          "height": 542
        }
      },
      "execution_count": null,
      "outputs": [
        {
          "output_type": "display_data",
          "data": {
            "text/html": [
              "<html>\n",
              "<head><meta charset=\"utf-8\" /></head>\n",
              "<body>\n",
              "    <div>            <script src=\"https://cdnjs.cloudflare.com/ajax/libs/mathjax/2.7.5/MathJax.js?config=TeX-AMS-MML_SVG\"></script><script type=\"text/javascript\">if (window.MathJax) {MathJax.Hub.Config({SVG: {font: \"STIX-Web\"}});}</script>                <script type=\"text/javascript\">window.PlotlyConfig = {MathJaxConfig: 'local'};</script>\n",
              "        <script src=\"https://cdn.plot.ly/plotly-2.8.3.min.js\"></script>                <div id=\"ad8e81a3-151c-4251-9d99-f348538becb7\" class=\"plotly-graph-div\" style=\"height:525px; width:100%;\"></div>            <script type=\"text/javascript\">                                    window.PLOTLYENV=window.PLOTLYENV || {};                                    if (document.getElementById(\"ad8e81a3-151c-4251-9d99-f348538becb7\")) {                    Plotly.newPlot(                        \"ad8e81a3-151c-4251-9d99-f348538becb7\",                        [{\"hovertemplate\":\"x=%{x}<br>y=%{y}<extra></extra>\",\"legendgroup\":\"\",\"marker\":{\"color\":\"#636efa\",\"symbol\":\"circle\"},\"mode\":\"markers\",\"name\":\"\",\"orientation\":\"v\",\"showlegend\":false,\"x\":[1,2,3,4,5,6,7,8,9,10,11,12,13,14,15,16,17,18,19,20,21,22,23,24,25,26,27,28,29,30,31,32,33,34,35,36,37,38,39,40,41,42,43,44,45,46,47,48,49,50,51,52,53,54,55,56,57,58,59,60,61,62,63,64,65,66,67,68,69,70,71,72,73,74,75,76,77,78,79,80,81,82,83,84,85,86,87,88,89,90,91,92,93,94,95,96,97,98,99,100,101,102,103,104,105,106,107,108,109,110,111,112,113,114,115,116,117,118,119,120,121,122,123,124,125,126,127,128,129,130,131,132,133,134,135,136,137,138,139,140,141,142,143,144,145,146,147,148,149,150,151,152,153,154,155,156,157,158,159,160,161,162,163,164,165,166,167,168,169,170,171,172,173,174,175,176,177,178,179,180,181,182,183,184,185,186,187,188,189,190,191,192,193,194,195,196,197,198,199,200,201,202,203,204,205,206,207,208,209,210,211,212,213,214,215,216,217,218,219,220,221,222,223,224,225,226,227,228,229,230,231,232,233,234,235,236,237,238,239,240,241,242,243,244,245,246,247,248,249,250,251,252,253,254,255,256,257,258,259,260,261,262,263,264,265,266,267,268,269,270,271,272,273,274,275,276,277,278,279,280,281,282,283,284,285,286,287,288,289,290,291,292,293,294,295,296,297,298,299,300,301,302,303,304,305,306,307,308,309,310,311,312,313,314,315,316,317,318,319,320,321,322,323,324,325,326,327,328,329,330,331,332],\"xaxis\":\"x\",\"y\":[1460,3651,2190,3651,2921,1825,3286,1460,2190,1095,2190,730,730,1094,729,730,4017,730,3286,1460,3286,1460,3286,4017,3286,3651,3286,3286,3651,4017,3286,3651,3286,1095,3286,3286,3286,3651,3651,364,2555,1094,1094,2556,3651,729,2556,730,3651,3651,1095,3651,1825,1825,1460,2556,3286,2190,2556,3286,1095,3286,3286,3651,729,2921,3286,3286,729,2556,1825,2190,730,3651,3651,3286,2556,1825,1460,2555,730,1095,2190,1094,1095,3286,2921,2556,4017,365,2921,729,3651,2921,729,3651,2921,3651,3651,1095,729,1460,3651,2556,2190,729,364,3651,1825,2190,2921,2190,2921,3651,1460,4017,2556,364,364,4017,4017,1460,2190,2191,3286,1095,3286,3286,729,1095,1094,2191,4017,1095,1095,3286,364,3651,1460,3651,1825,1460,1825,3286,2190,729,3286,3286,1825,2921,1095,2921,1460,4017,729,2556,729,2921,1095,3651,1460,364,1095,1460,3651,1460,2555,2921,364,3651,3651,3651,2556,1460,364,2191,3651,3286,3651,2556,1460,2190,1460,3651,3651,3286,1095,3286,1460,2556,3651,1825,2556,3651,2190,3286,2556,3651,1825,3651,3286,4017,3286,1095,3651,729,730,1460,1460,2556,1095,364,3286,3286,3286,2190,1460,2190,2556,3651,1825,3286,3651,729,2921,729,2921,4017,1825,1460,3651,3651,1094,2921,364,729,1460,729,3286,3286,3286,2921,3286,3286,3286,3286,1460,4017,2190,1460,364,3651,3651,3286,3286,1095,3651,3651,730,2921,729,2555,2921,729,3286,3651,3286,3651,1460,1825,2190,2190,2190,1825,3286,1825,4017,1460,3651,2556,2191,2556,2191,2191,730,1460,4017,3651,1460,2191,1460,1095,1095,1825,730,3651,1825,1094,2921,4017,3651,3651,2556,1095,2190,1094,1460,1095,1825,1826,729,1825,3286,4017,1825,1095,729,1825,1460,2921,2921,2191,729,729,3286,1825,1460,4017,3651,3286,2190,730],\"yaxis\":\"y\",\"type\":\"scatter\"}],                        {\"template\":{\"data\":{\"bar\":[{\"error_x\":{\"color\":\"#2a3f5f\"},\"error_y\":{\"color\":\"#2a3f5f\"},\"marker\":{\"line\":{\"color\":\"#E5ECF6\",\"width\":0.5},\"pattern\":{\"fillmode\":\"overlay\",\"size\":10,\"solidity\":0.2}},\"type\":\"bar\"}],\"barpolar\":[{\"marker\":{\"line\":{\"color\":\"#E5ECF6\",\"width\":0.5},\"pattern\":{\"fillmode\":\"overlay\",\"size\":10,\"solidity\":0.2}},\"type\":\"barpolar\"}],\"carpet\":[{\"aaxis\":{\"endlinecolor\":\"#2a3f5f\",\"gridcolor\":\"white\",\"linecolor\":\"white\",\"minorgridcolor\":\"white\",\"startlinecolor\":\"#2a3f5f\"},\"baxis\":{\"endlinecolor\":\"#2a3f5f\",\"gridcolor\":\"white\",\"linecolor\":\"white\",\"minorgridcolor\":\"white\",\"startlinecolor\":\"#2a3f5f\"},\"type\":\"carpet\"}],\"choropleth\":[{\"colorbar\":{\"outlinewidth\":0,\"ticks\":\"\"},\"type\":\"choropleth\"}],\"contour\":[{\"colorbar\":{\"outlinewidth\":0,\"ticks\":\"\"},\"colorscale\":[[0.0,\"#0d0887\"],[0.1111111111111111,\"#46039f\"],[0.2222222222222222,\"#7201a8\"],[0.3333333333333333,\"#9c179e\"],[0.4444444444444444,\"#bd3786\"],[0.5555555555555556,\"#d8576b\"],[0.6666666666666666,\"#ed7953\"],[0.7777777777777778,\"#fb9f3a\"],[0.8888888888888888,\"#fdca26\"],[1.0,\"#f0f921\"]],\"type\":\"contour\"}],\"contourcarpet\":[{\"colorbar\":{\"outlinewidth\":0,\"ticks\":\"\"},\"type\":\"contourcarpet\"}],\"heatmap\":[{\"colorbar\":{\"outlinewidth\":0,\"ticks\":\"\"},\"colorscale\":[[0.0,\"#0d0887\"],[0.1111111111111111,\"#46039f\"],[0.2222222222222222,\"#7201a8\"],[0.3333333333333333,\"#9c179e\"],[0.4444444444444444,\"#bd3786\"],[0.5555555555555556,\"#d8576b\"],[0.6666666666666666,\"#ed7953\"],[0.7777777777777778,\"#fb9f3a\"],[0.8888888888888888,\"#fdca26\"],[1.0,\"#f0f921\"]],\"type\":\"heatmap\"}],\"heatmapgl\":[{\"colorbar\":{\"outlinewidth\":0,\"ticks\":\"\"},\"colorscale\":[[0.0,\"#0d0887\"],[0.1111111111111111,\"#46039f\"],[0.2222222222222222,\"#7201a8\"],[0.3333333333333333,\"#9c179e\"],[0.4444444444444444,\"#bd3786\"],[0.5555555555555556,\"#d8576b\"],[0.6666666666666666,\"#ed7953\"],[0.7777777777777778,\"#fb9f3a\"],[0.8888888888888888,\"#fdca26\"],[1.0,\"#f0f921\"]],\"type\":\"heatmapgl\"}],\"histogram\":[{\"marker\":{\"pattern\":{\"fillmode\":\"overlay\",\"size\":10,\"solidity\":0.2}},\"type\":\"histogram\"}],\"histogram2d\":[{\"colorbar\":{\"outlinewidth\":0,\"ticks\":\"\"},\"colorscale\":[[0.0,\"#0d0887\"],[0.1111111111111111,\"#46039f\"],[0.2222222222222222,\"#7201a8\"],[0.3333333333333333,\"#9c179e\"],[0.4444444444444444,\"#bd3786\"],[0.5555555555555556,\"#d8576b\"],[0.6666666666666666,\"#ed7953\"],[0.7777777777777778,\"#fb9f3a\"],[0.8888888888888888,\"#fdca26\"],[1.0,\"#f0f921\"]],\"type\":\"histogram2d\"}],\"histogram2dcontour\":[{\"colorbar\":{\"outlinewidth\":0,\"ticks\":\"\"},\"colorscale\":[[0.0,\"#0d0887\"],[0.1111111111111111,\"#46039f\"],[0.2222222222222222,\"#7201a8\"],[0.3333333333333333,\"#9c179e\"],[0.4444444444444444,\"#bd3786\"],[0.5555555555555556,\"#d8576b\"],[0.6666666666666666,\"#ed7953\"],[0.7777777777777778,\"#fb9f3a\"],[0.8888888888888888,\"#fdca26\"],[1.0,\"#f0f921\"]],\"type\":\"histogram2dcontour\"}],\"mesh3d\":[{\"colorbar\":{\"outlinewidth\":0,\"ticks\":\"\"},\"type\":\"mesh3d\"}],\"parcoords\":[{\"line\":{\"colorbar\":{\"outlinewidth\":0,\"ticks\":\"\"}},\"type\":\"parcoords\"}],\"pie\":[{\"automargin\":true,\"type\":\"pie\"}],\"scatter\":[{\"marker\":{\"colorbar\":{\"outlinewidth\":0,\"ticks\":\"\"}},\"type\":\"scatter\"}],\"scatter3d\":[{\"line\":{\"colorbar\":{\"outlinewidth\":0,\"ticks\":\"\"}},\"marker\":{\"colorbar\":{\"outlinewidth\":0,\"ticks\":\"\"}},\"type\":\"scatter3d\"}],\"scattercarpet\":[{\"marker\":{\"colorbar\":{\"outlinewidth\":0,\"ticks\":\"\"}},\"type\":\"scattercarpet\"}],\"scattergeo\":[{\"marker\":{\"colorbar\":{\"outlinewidth\":0,\"ticks\":\"\"}},\"type\":\"scattergeo\"}],\"scattergl\":[{\"marker\":{\"colorbar\":{\"outlinewidth\":0,\"ticks\":\"\"}},\"type\":\"scattergl\"}],\"scattermapbox\":[{\"marker\":{\"colorbar\":{\"outlinewidth\":0,\"ticks\":\"\"}},\"type\":\"scattermapbox\"}],\"scatterpolar\":[{\"marker\":{\"colorbar\":{\"outlinewidth\":0,\"ticks\":\"\"}},\"type\":\"scatterpolar\"}],\"scatterpolargl\":[{\"marker\":{\"colorbar\":{\"outlinewidth\":0,\"ticks\":\"\"}},\"type\":\"scatterpolargl\"}],\"scatterternary\":[{\"marker\":{\"colorbar\":{\"outlinewidth\":0,\"ticks\":\"\"}},\"type\":\"scatterternary\"}],\"surface\":[{\"colorbar\":{\"outlinewidth\":0,\"ticks\":\"\"},\"colorscale\":[[0.0,\"#0d0887\"],[0.1111111111111111,\"#46039f\"],[0.2222222222222222,\"#7201a8\"],[0.3333333333333333,\"#9c179e\"],[0.4444444444444444,\"#bd3786\"],[0.5555555555555556,\"#d8576b\"],[0.6666666666666666,\"#ed7953\"],[0.7777777777777778,\"#fb9f3a\"],[0.8888888888888888,\"#fdca26\"],[1.0,\"#f0f921\"]],\"type\":\"surface\"}],\"table\":[{\"cells\":{\"fill\":{\"color\":\"#EBF0F8\"},\"line\":{\"color\":\"white\"}},\"header\":{\"fill\":{\"color\":\"#C8D4E3\"},\"line\":{\"color\":\"white\"}},\"type\":\"table\"}]},\"layout\":{\"annotationdefaults\":{\"arrowcolor\":\"#2a3f5f\",\"arrowhead\":0,\"arrowwidth\":1},\"autotypenumbers\":\"strict\",\"coloraxis\":{\"colorbar\":{\"outlinewidth\":0,\"ticks\":\"\"}},\"colorscale\":{\"diverging\":[[0,\"#8e0152\"],[0.1,\"#c51b7d\"],[0.2,\"#de77ae\"],[0.3,\"#f1b6da\"],[0.4,\"#fde0ef\"],[0.5,\"#f7f7f7\"],[0.6,\"#e6f5d0\"],[0.7,\"#b8e186\"],[0.8,\"#7fbc41\"],[0.9,\"#4d9221\"],[1,\"#276419\"]],\"sequential\":[[0.0,\"#0d0887\"],[0.1111111111111111,\"#46039f\"],[0.2222222222222222,\"#7201a8\"],[0.3333333333333333,\"#9c179e\"],[0.4444444444444444,\"#bd3786\"],[0.5555555555555556,\"#d8576b\"],[0.6666666666666666,\"#ed7953\"],[0.7777777777777778,\"#fb9f3a\"],[0.8888888888888888,\"#fdca26\"],[1.0,\"#f0f921\"]],\"sequentialminus\":[[0.0,\"#0d0887\"],[0.1111111111111111,\"#46039f\"],[0.2222222222222222,\"#7201a8\"],[0.3333333333333333,\"#9c179e\"],[0.4444444444444444,\"#bd3786\"],[0.5555555555555556,\"#d8576b\"],[0.6666666666666666,\"#ed7953\"],[0.7777777777777778,\"#fb9f3a\"],[0.8888888888888888,\"#fdca26\"],[1.0,\"#f0f921\"]]},\"colorway\":[\"#636efa\",\"#EF553B\",\"#00cc96\",\"#ab63fa\",\"#FFA15A\",\"#19d3f3\",\"#FF6692\",\"#B6E880\",\"#FF97FF\",\"#FECB52\"],\"font\":{\"color\":\"#2a3f5f\"},\"geo\":{\"bgcolor\":\"white\",\"lakecolor\":\"white\",\"landcolor\":\"#E5ECF6\",\"showlakes\":true,\"showland\":true,\"subunitcolor\":\"white\"},\"hoverlabel\":{\"align\":\"left\"},\"hovermode\":\"closest\",\"mapbox\":{\"style\":\"light\"},\"paper_bgcolor\":\"white\",\"plot_bgcolor\":\"#E5ECF6\",\"polar\":{\"angularaxis\":{\"gridcolor\":\"white\",\"linecolor\":\"white\",\"ticks\":\"\"},\"bgcolor\":\"#E5ECF6\",\"radialaxis\":{\"gridcolor\":\"white\",\"linecolor\":\"white\",\"ticks\":\"\"}},\"scene\":{\"xaxis\":{\"backgroundcolor\":\"#E5ECF6\",\"gridcolor\":\"white\",\"gridwidth\":2,\"linecolor\":\"white\",\"showbackground\":true,\"ticks\":\"\",\"zerolinecolor\":\"white\"},\"yaxis\":{\"backgroundcolor\":\"#E5ECF6\",\"gridcolor\":\"white\",\"gridwidth\":2,\"linecolor\":\"white\",\"showbackground\":true,\"ticks\":\"\",\"zerolinecolor\":\"white\"},\"zaxis\":{\"backgroundcolor\":\"#E5ECF6\",\"gridcolor\":\"white\",\"gridwidth\":2,\"linecolor\":\"white\",\"showbackground\":true,\"ticks\":\"\",\"zerolinecolor\":\"white\"}},\"shapedefaults\":{\"line\":{\"color\":\"#2a3f5f\"}},\"ternary\":{\"aaxis\":{\"gridcolor\":\"white\",\"linecolor\":\"white\",\"ticks\":\"\"},\"baxis\":{\"gridcolor\":\"white\",\"linecolor\":\"white\",\"ticks\":\"\"},\"bgcolor\":\"#E5ECF6\",\"caxis\":{\"gridcolor\":\"white\",\"linecolor\":\"white\",\"ticks\":\"\"}},\"title\":{\"x\":0.05},\"xaxis\":{\"automargin\":true,\"gridcolor\":\"white\",\"linecolor\":\"white\",\"ticks\":\"\",\"title\":{\"standoff\":15},\"zerolinecolor\":\"white\",\"zerolinewidth\":2},\"yaxis\":{\"automargin\":true,\"gridcolor\":\"white\",\"linecolor\":\"white\",\"ticks\":\"\",\"title\":{\"standoff\":15},\"zerolinecolor\":\"white\",\"zerolinewidth\":2}}},\"xaxis\":{\"anchor\":\"y\",\"domain\":[0.0,1.0],\"title\":{\"text\":\"x\"}},\"yaxis\":{\"anchor\":\"x\",\"domain\":[0.0,1.0],\"title\":{\"text\":\"y\"}},\"legend\":{\"tracegroupgap\":0},\"margin\":{\"t\":60}},                        {\"responsive\": true}                    ).then(function(){\n",
              "                            \n",
              "var gd = document.getElementById('ad8e81a3-151c-4251-9d99-f348538becb7');\n",
              "var x = new MutationObserver(function (mutations, observer) {{\n",
              "        var display = window.getComputedStyle(gd).display;\n",
              "        if (!display || display === 'none') {{\n",
              "            console.log([gd, 'removed!']);\n",
              "            Plotly.purge(gd);\n",
              "            observer.disconnect();\n",
              "        }}\n",
              "}});\n",
              "\n",
              "// Listen for the removal of the full notebook cells\n",
              "var notebookContainer = gd.closest('#notebook-container');\n",
              "if (notebookContainer) {{\n",
              "    x.observe(notebookContainer, {childList: true});\n",
              "}}\n",
              "\n",
              "// Listen for the clearing of the current output cell\n",
              "var outputEl = gd.closest('.output');\n",
              "if (outputEl) {{\n",
              "    x.observe(outputEl, {childList: true});\n",
              "}}\n",
              "\n",
              "                        })                };                            </script>        </div>\n",
              "</body>\n",
              "</html>"
            ]
          },
          "metadata": {}
        }
      ]
    }
  ]
}